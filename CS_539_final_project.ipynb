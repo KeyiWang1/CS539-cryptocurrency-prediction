{
  "nbformat": 4,
  "nbformat_minor": 0,
  "metadata": {
    "colab": {
      "name": "CS 539 final project.ipynb",
      "provenance": [],
      "collapsed_sections": [
        "ir9cew_G8UfW",
        "zosuU9PB8cPR"
      ]
    },
    "kernelspec": {
      "name": "python3",
      "display_name": "Python 3"
    },
    "language_info": {
      "name": "python"
    }
  },
  "cells": [
    {
      "cell_type": "markdown",
      "source": [
        "# Preprocessing & Exploratory Analysis"
      ],
      "metadata": {
        "id": "ir9cew_G8UfW"
      }
    },
    {
      "cell_type": "code",
      "execution_count": null,
      "metadata": {
        "id": "JmIiT4aCuhIq"
      },
      "outputs": [],
      "source": [
        "import pandas as pd\n",
        "import numpy as np\n",
        "from datetime import datetime\n",
        "import plotly.graph_objects as go\n",
        "import matplotlib.pyplot as plt\n",
        "import time\n",
        "import plotly.graph_objects as go\n",
        "from sklearn.preprocessing import MinMaxScaler"
      ]
    },
    {
      "cell_type": "code",
      "source": [
        "from google.colab import drive\n",
        "drive.mount('/content/drive')"
      ],
      "metadata": {
        "id": "O3_dF0BcuwUo",
        "colab": {
          "base_uri": "https://localhost:8080/"
        },
        "outputId": "8ed1c7ad-c670-4a8a-cde2-e94706f1aed4"
      },
      "execution_count": null,
      "outputs": [
        {
          "output_type": "stream",
          "name": "stdout",
          "text": [
            "Drive already mounted at /content/drive; to attempt to forcibly remount, call drive.mount(\"/content/drive\", force_remount=True).\n"
          ]
        }
      ]
    },
    {
      "cell_type": "code",
      "source": [
        "crypto_df = pd.read_csv('/content/drive/MyDrive/CS 539/final project/train.csv')\n",
        "asset_details_df = pd.read_csv('/content/drive/MyDrive/CS 539/final project/asset_details.csv')"
      ],
      "metadata": {
        "id": "uMgM0XyrvOr9"
      },
      "execution_count": null,
      "outputs": []
    },
    {
      "cell_type": "code",
      "source": [
        "#start with a smaller dataset\n",
        "print(crypto_df.shape)\n",
        "crypto_df = crypto_df[:50000]"
      ],
      "metadata": {
        "id": "6bIuwvXrYwnF",
        "colab": {
          "base_uri": "https://localhost:8080/"
        },
        "outputId": "a2b01453-7603-46dd-a15e-a292fb867827"
      },
      "execution_count": null,
      "outputs": [
        {
          "output_type": "stream",
          "name": "stdout",
          "text": [
            "(24236806, 10)\n"
          ]
        }
      ]
    },
    {
      "cell_type": "code",
      "source": [
        "crypto_df.describe()"
      ],
      "metadata": {
        "id": "pi7Z0WpC3W3Y",
        "colab": {
          "base_uri": "https://localhost:8080/"
        },
        "outputId": "bf959592-8a38-42da-c787-872298a8e7ed"
      },
      "execution_count": null,
      "outputs": [
        {
          "output_type": "execute_result",
          "data": {
            "text/plain": [
              "          timestamp      Asset_ID         Count          Open          High  \\\n",
              "count  5.000000e+04  50000.000000  50000.000000  50000.000000  50000.000000   \n",
              "mean   1.514957e+09      5.087000    109.052100   2332.522005   2354.813247   \n",
              "std    1.103176e+05      3.631635    147.107864   4670.218154   4718.527824   \n",
              "min    1.514765e+09      0.000000      1.000000      7.214700      7.251300   \n",
              "25%    1.514862e+09      1.000000     12.000000     28.059125     28.247250   \n",
              "50%    1.514957e+09      5.000000     43.000000    319.030000    319.420000   \n",
              "75%    1.515053e+09      7.000000    157.000000   2306.916250   2317.910000   \n",
              "max    1.515147e+09     11.000000   1591.000000  15996.600000  16179.000000   \n",
              "\n",
              "                Low         Close         Volume          VWAP        Target  \n",
              "count  50000.000000  50000.000000   50000.000000  50000.000000  48522.000000  \n",
              "mean    2314.186906   2332.630643     735.002132   2332.527774      0.000364  \n",
              "std     4631.427209   4670.507609    2749.738851   4670.264301      0.009323  \n",
              "min        7.200000      7.234600       0.000009      7.210550     -0.091524  \n",
              "25%       27.905250     28.076375      36.207203     28.067210     -0.003993  \n",
              "50%      318.720000    319.345000     175.470926    319.132511      0.000117  \n",
              "75%     2290.375000   2306.527500     576.813634   2306.232741      0.004425  \n",
              "max    15899.980000  16002.845636  234325.621576  16001.109454      0.109310  "
            ],
            "text/html": [
              "\n",
              "  <div id=\"df-62c426d5-c061-4c96-a223-b594265b1738\">\n",
              "    <div class=\"colab-df-container\">\n",
              "      <div>\n",
              "<style scoped>\n",
              "    .dataframe tbody tr th:only-of-type {\n",
              "        vertical-align: middle;\n",
              "    }\n",
              "\n",
              "    .dataframe tbody tr th {\n",
              "        vertical-align: top;\n",
              "    }\n",
              "\n",
              "    .dataframe thead th {\n",
              "        text-align: right;\n",
              "    }\n",
              "</style>\n",
              "<table border=\"1\" class=\"dataframe\">\n",
              "  <thead>\n",
              "    <tr style=\"text-align: right;\">\n",
              "      <th></th>\n",
              "      <th>timestamp</th>\n",
              "      <th>Asset_ID</th>\n",
              "      <th>Count</th>\n",
              "      <th>Open</th>\n",
              "      <th>High</th>\n",
              "      <th>Low</th>\n",
              "      <th>Close</th>\n",
              "      <th>Volume</th>\n",
              "      <th>VWAP</th>\n",
              "      <th>Target</th>\n",
              "    </tr>\n",
              "  </thead>\n",
              "  <tbody>\n",
              "    <tr>\n",
              "      <th>count</th>\n",
              "      <td>5.000000e+04</td>\n",
              "      <td>50000.000000</td>\n",
              "      <td>50000.000000</td>\n",
              "      <td>50000.000000</td>\n",
              "      <td>50000.000000</td>\n",
              "      <td>50000.000000</td>\n",
              "      <td>50000.000000</td>\n",
              "      <td>50000.000000</td>\n",
              "      <td>50000.000000</td>\n",
              "      <td>48522.000000</td>\n",
              "    </tr>\n",
              "    <tr>\n",
              "      <th>mean</th>\n",
              "      <td>1.514957e+09</td>\n",
              "      <td>5.087000</td>\n",
              "      <td>109.052100</td>\n",
              "      <td>2332.522005</td>\n",
              "      <td>2354.813247</td>\n",
              "      <td>2314.186906</td>\n",
              "      <td>2332.630643</td>\n",
              "      <td>735.002132</td>\n",
              "      <td>2332.527774</td>\n",
              "      <td>0.000364</td>\n",
              "    </tr>\n",
              "    <tr>\n",
              "      <th>std</th>\n",
              "      <td>1.103176e+05</td>\n",
              "      <td>3.631635</td>\n",
              "      <td>147.107864</td>\n",
              "      <td>4670.218154</td>\n",
              "      <td>4718.527824</td>\n",
              "      <td>4631.427209</td>\n",
              "      <td>4670.507609</td>\n",
              "      <td>2749.738851</td>\n",
              "      <td>4670.264301</td>\n",
              "      <td>0.009323</td>\n",
              "    </tr>\n",
              "    <tr>\n",
              "      <th>min</th>\n",
              "      <td>1.514765e+09</td>\n",
              "      <td>0.000000</td>\n",
              "      <td>1.000000</td>\n",
              "      <td>7.214700</td>\n",
              "      <td>7.251300</td>\n",
              "      <td>7.200000</td>\n",
              "      <td>7.234600</td>\n",
              "      <td>0.000009</td>\n",
              "      <td>7.210550</td>\n",
              "      <td>-0.091524</td>\n",
              "    </tr>\n",
              "    <tr>\n",
              "      <th>25%</th>\n",
              "      <td>1.514862e+09</td>\n",
              "      <td>1.000000</td>\n",
              "      <td>12.000000</td>\n",
              "      <td>28.059125</td>\n",
              "      <td>28.247250</td>\n",
              "      <td>27.905250</td>\n",
              "      <td>28.076375</td>\n",
              "      <td>36.207203</td>\n",
              "      <td>28.067210</td>\n",
              "      <td>-0.003993</td>\n",
              "    </tr>\n",
              "    <tr>\n",
              "      <th>50%</th>\n",
              "      <td>1.514957e+09</td>\n",
              "      <td>5.000000</td>\n",
              "      <td>43.000000</td>\n",
              "      <td>319.030000</td>\n",
              "      <td>319.420000</td>\n",
              "      <td>318.720000</td>\n",
              "      <td>319.345000</td>\n",
              "      <td>175.470926</td>\n",
              "      <td>319.132511</td>\n",
              "      <td>0.000117</td>\n",
              "    </tr>\n",
              "    <tr>\n",
              "      <th>75%</th>\n",
              "      <td>1.515053e+09</td>\n",
              "      <td>7.000000</td>\n",
              "      <td>157.000000</td>\n",
              "      <td>2306.916250</td>\n",
              "      <td>2317.910000</td>\n",
              "      <td>2290.375000</td>\n",
              "      <td>2306.527500</td>\n",
              "      <td>576.813634</td>\n",
              "      <td>2306.232741</td>\n",
              "      <td>0.004425</td>\n",
              "    </tr>\n",
              "    <tr>\n",
              "      <th>max</th>\n",
              "      <td>1.515147e+09</td>\n",
              "      <td>11.000000</td>\n",
              "      <td>1591.000000</td>\n",
              "      <td>15996.600000</td>\n",
              "      <td>16179.000000</td>\n",
              "      <td>15899.980000</td>\n",
              "      <td>16002.845636</td>\n",
              "      <td>234325.621576</td>\n",
              "      <td>16001.109454</td>\n",
              "      <td>0.109310</td>\n",
              "    </tr>\n",
              "  </tbody>\n",
              "</table>\n",
              "</div>\n",
              "      <button class=\"colab-df-convert\" onclick=\"convertToInteractive('df-62c426d5-c061-4c96-a223-b594265b1738')\"\n",
              "              title=\"Convert this dataframe to an interactive table.\"\n",
              "              style=\"display:none;\">\n",
              "        \n",
              "  <svg xmlns=\"http://www.w3.org/2000/svg\" height=\"24px\"viewBox=\"0 0 24 24\"\n",
              "       width=\"24px\">\n",
              "    <path d=\"M0 0h24v24H0V0z\" fill=\"none\"/>\n",
              "    <path d=\"M18.56 5.44l.94 2.06.94-2.06 2.06-.94-2.06-.94-.94-2.06-.94 2.06-2.06.94zm-11 1L8.5 8.5l.94-2.06 2.06-.94-2.06-.94L8.5 2.5l-.94 2.06-2.06.94zm10 10l.94 2.06.94-2.06 2.06-.94-2.06-.94-.94-2.06-.94 2.06-2.06.94z\"/><path d=\"M17.41 7.96l-1.37-1.37c-.4-.4-.92-.59-1.43-.59-.52 0-1.04.2-1.43.59L10.3 9.45l-7.72 7.72c-.78.78-.78 2.05 0 2.83L4 21.41c.39.39.9.59 1.41.59.51 0 1.02-.2 1.41-.59l7.78-7.78 2.81-2.81c.8-.78.8-2.07 0-2.86zM5.41 20L4 18.59l7.72-7.72 1.47 1.35L5.41 20z\"/>\n",
              "  </svg>\n",
              "      </button>\n",
              "      \n",
              "  <style>\n",
              "    .colab-df-container {\n",
              "      display:flex;\n",
              "      flex-wrap:wrap;\n",
              "      gap: 12px;\n",
              "    }\n",
              "\n",
              "    .colab-df-convert {\n",
              "      background-color: #E8F0FE;\n",
              "      border: none;\n",
              "      border-radius: 50%;\n",
              "      cursor: pointer;\n",
              "      display: none;\n",
              "      fill: #1967D2;\n",
              "      height: 32px;\n",
              "      padding: 0 0 0 0;\n",
              "      width: 32px;\n",
              "    }\n",
              "\n",
              "    .colab-df-convert:hover {\n",
              "      background-color: #E2EBFA;\n",
              "      box-shadow: 0px 1px 2px rgba(60, 64, 67, 0.3), 0px 1px 3px 1px rgba(60, 64, 67, 0.15);\n",
              "      fill: #174EA6;\n",
              "    }\n",
              "\n",
              "    [theme=dark] .colab-df-convert {\n",
              "      background-color: #3B4455;\n",
              "      fill: #D2E3FC;\n",
              "    }\n",
              "\n",
              "    [theme=dark] .colab-df-convert:hover {\n",
              "      background-color: #434B5C;\n",
              "      box-shadow: 0px 1px 3px 1px rgba(0, 0, 0, 0.15);\n",
              "      filter: drop-shadow(0px 1px 2px rgba(0, 0, 0, 0.3));\n",
              "      fill: #FFFFFF;\n",
              "    }\n",
              "  </style>\n",
              "\n",
              "      <script>\n",
              "        const buttonEl =\n",
              "          document.querySelector('#df-62c426d5-c061-4c96-a223-b594265b1738 button.colab-df-convert');\n",
              "        buttonEl.style.display =\n",
              "          google.colab.kernel.accessAllowed ? 'block' : 'none';\n",
              "\n",
              "        async function convertToInteractive(key) {\n",
              "          const element = document.querySelector('#df-62c426d5-c061-4c96-a223-b594265b1738');\n",
              "          const dataTable =\n",
              "            await google.colab.kernel.invokeFunction('convertToInteractive',\n",
              "                                                     [key], {});\n",
              "          if (!dataTable) return;\n",
              "\n",
              "          const docLinkHtml = 'Like what you see? Visit the ' +\n",
              "            '<a target=\"_blank\" href=https://colab.research.google.com/notebooks/data_table.ipynb>data table notebook</a>'\n",
              "            + ' to learn more about interactive tables.';\n",
              "          element.innerHTML = '';\n",
              "          dataTable['output_type'] = 'display_data';\n",
              "          await google.colab.output.renderOutput(dataTable, element);\n",
              "          const docLink = document.createElement('div');\n",
              "          docLink.innerHTML = docLinkHtml;\n",
              "          element.appendChild(docLink);\n",
              "        }\n",
              "      </script>\n",
              "    </div>\n",
              "  </div>\n",
              "  "
            ]
          },
          "metadata": {},
          "execution_count": 50
        }
      ]
    },
    {
      "cell_type": "code",
      "source": [
        "crypto_df.isna().sum()"
      ],
      "metadata": {
        "id": "pxjP2XbZ3fXg",
        "colab": {
          "base_uri": "https://localhost:8080/"
        },
        "outputId": "4e82ea22-5dda-48e2-b2e3-0e46b06fc224"
      },
      "execution_count": null,
      "outputs": [
        {
          "output_type": "execute_result",
          "data": {
            "text/plain": [
              "timestamp       0\n",
              "Asset_ID        0\n",
              "Count           0\n",
              "Open            0\n",
              "High            0\n",
              "Low             0\n",
              "Close           0\n",
              "Volume          0\n",
              "VWAP            0\n",
              "Target       1478\n",
              "dtype: int64"
            ]
          },
          "metadata": {},
          "execution_count": 51
        }
      ]
    },
    {
      "cell_type": "code",
      "source": [
        "#data cleaning to get rid of infinities and nan's\n",
        "crypto_df.replace([np.inf, -np.inf], np.nan, inplace=True)\n",
        "crypto_df.dropna(inplace=True)\n",
        "crypto_df.drop_duplicates(inplace=True)"
      ],
      "metadata": {
        "id": "NVwsAZ9h3miJ"
      },
      "execution_count": null,
      "outputs": []
    },
    {
      "cell_type": "markdown",
      "source": [
        "# Feature Engineering"
      ],
      "metadata": {
        "id": "zosuU9PB8cPR"
      }
    },
    {
      "cell_type": "code",
      "source": [
        "#convert timestamp to actual time\n",
        "crypto_df['date_time'] = crypto_df['timestamp'].map(datetime.fromtimestamp)"
      ],
      "metadata": {
        "id": "6dBpR6v65Vu9"
      },
      "execution_count": null,
      "outputs": []
    },
    {
      "cell_type": "markdown",
      "source": [
        "First, constructe some new variables and standardize the existing variables"
      ],
      "metadata": {
        "id": "9troh4rMR4qr"
      }
    },
    {
      "cell_type": "code",
      "source": [
        "#constructing time feature\n",
        "crypto_df['date_time'] = pd.to_datetime(crypto_df['timestamp'],unit='s')    \n",
        "crypto_df['year'] = pd.DatetimeIndex(crypto_df['date_time']).year\n",
        "crypto_df['month'] = pd.DatetimeIndex(crypto_df['date_time']).month\n",
        "crypto_df['day']=pd.DatetimeIndex(crypto_df['date_time']).day\n",
        "crypto_df['hour']=pd.DatetimeIndex(crypto_df['date_time']).hour\n",
        "crypto_df['minute']=pd.DatetimeIndex(crypto_df['date_time']).minute\n",
        "\n",
        "crypto_df['sin_month'] = (np.sin(2 * np.pi * crypto_df['month']/12))\n",
        "crypto_df['cos_month'] = (np.cos(2 * np.pi * crypto_df['month']/12))\n",
        "crypto_df['sin_day'] = (np.sin(2 * np.pi * crypto_df['day']/31))\n",
        "crypto_df['cos_day'] = (np.cos(2 * np.pi * crypto_df['day']/31))\n",
        "crypto_df['sin_hour'] = (np.sin(2 * np.pi * crypto_df['hour']/24))\n",
        "crypto_df['cos_hour'] = (np.cos(2 * np.pi * crypto_df['hour']/24))\n",
        "crypto_df['sin_minute'] = (np.sin(2 * np.pi * crypto_df['minute']/60))\n",
        "crypto_df['cos_minute'] = (np.cos(2 * np.pi * crypto_df['minute']/60))"
      ],
      "metadata": {
        "id": "0bd9Z0qMEBx-"
      },
      "execution_count": null,
      "outputs": []
    },
    {
      "cell_type": "code",
      "source": [
        "#constructing market features\n",
        "# Standardising Features\n",
        "Base=crypto_df['Close']\n",
        "crypto_df['Open'] = crypto_df['Open']/Base\n",
        "crypto_df['High'] = crypto_df['High']/Base\n",
        "crypto_df['Low'] = crypto_df['Low']/Base\n",
        "crypto_df['VWAP'] = crypto_df['VWAP']/Base\n",
        "crypto_df['Close'] = crypto_df['Close']/Base\n",
        "crypto_df['Price'] = Base\n",
        "\n",
        "# Using dollars\n",
        "crypto_df['Dollars'] = crypto_df['Price'] * crypto_df['Volume']\n",
        "crypto_df['Volume_per_trade'] = crypto_df['Volume'] * crypto_df['Count']\n",
        "crypto_df['Dollars_per_trade'] = crypto_df['Dollars'] * crypto_df['Count']\n",
        "\n",
        "# log returns and volatility estimators\n",
        "crypto_df['log_ret'] = np.log(crypto_df['Close']/crypto_df['Open'])\n",
        "crypto_df['GK_vol'] = (1 / 2 * np.log(crypto_df['High']/crypto_df['Low']) ** 2 - (2 * np.log(2) - 1) * np.log(crypto_df['Close'] / crypto_df['Open']) ** 2)\n",
        "crypto_df['RS_vol'] = np.log(crypto_df['High']/crypto_df['Close'])*np.log(crypto_df['High']/crypto_df['Open']) + np.log(crypto_df['Low']/crypto_df['Close'])*np.log(crypto_df['Low']/crypto_df['Open'])"
      ],
      "metadata": {
        "id": "nG2vRuzCEj01"
      },
      "execution_count": null,
      "outputs": []
    },
    {
      "cell_type": "markdown",
      "source": [
        "# Benchmark method 1: linear regression"
      ],
      "metadata": {
        "id": "22dFv4r4xBw2"
      }
    },
    {
      "cell_type": "code",
      "source": [
        "Target = crypto_df['Target']\n",
        "crypto_df = crypto_df.drop('Target',axis=1)\n",
        "#get rid of some variables as they are not allowed in random forest\n",
        "crypto_df = crypto_df.drop('timestamp',axis=1)\n",
        "crypto_df = crypto_df.drop('date_time',axis=1)"
      ],
      "metadata": {
        "id": "f8UdpyNduAHe"
      },
      "execution_count": null,
      "outputs": []
    },
    {
      "cell_type": "code",
      "source": [
        "#prepare data for linear regression\n",
        "from sklearn.model_selection import train_test_split\n",
        "X_train_lr, X_test_lr, y_train_lr, y_test_lr = train_test_split(crypto_df, Target, test_size = 0.2, random_state = 42)\n",
        "\n",
        "scaler = MinMaxScaler().fit(X_train_lr)\n",
        "X_train_lr = scaler.transform(X_train_lr)\n",
        "X_test_lr = scaler.transform(X_test_lr)\n",
        "\n",
        "scaler = MinMaxScaler().fit(y_train_lr.values.reshape(-1,1))\n",
        "y_train_lr = scaler.transform(y_train_lr.values.reshape(-1,1))\n",
        "y_test_lr = scaler.transform(y_test_lr.values.reshape(-1,1))"
      ],
      "metadata": {
        "id": "yGuNYAOFt073"
      },
      "execution_count": null,
      "outputs": []
    },
    {
      "cell_type": "code",
      "source": [
        "from sklearn.linear_model import LinearRegression\n",
        "model_lr = LinearRegression().fit(X_train_lr,y_train_lr)"
      ],
      "metadata": {
        "id": "qTT7gV_ZxIhX"
      },
      "execution_count": null,
      "outputs": []
    },
    {
      "cell_type": "code",
      "source": [
        "#linear regression model prediction & evaluation\n",
        "pred_lr = model_lr.predict(X_test_lr)\n",
        "mse_lr = np.sqrt(np.mean(pred_lr - y_test_lr)**2)\n",
        "mse_lr"
      ],
      "metadata": {
        "colab": {
          "base_uri": "https://localhost:8080/"
        },
        "id": "95W-iF3rS_1m",
        "outputId": "b09b7e3a-5e28-436d-f341-6311e447df3f"
      },
      "execution_count": null,
      "outputs": [
        {
          "output_type": "execute_result",
          "data": {
            "text/plain": [
              "0.0003675420105372296"
            ]
          },
          "metadata": {},
          "execution_count": 59
        }
      ]
    },
    {
      "cell_type": "markdown",
      "source": [
        "# Benchmark method 2: Random Forest"
      ],
      "metadata": {
        "id": "d4S9_gUKUcCn"
      }
    },
    {
      "cell_type": "code",
      "source": [
        "from sklearn.model_selection import train_test_split\n",
        "# Split the data into training and testing sets for rf\n",
        "X_train_rf, X_test_rf, y_train_rf, y_test_rf = train_test_split(crypto_df, Target, test_size = 0.2, random_state = 42)\n",
        "\n",
        "scaler = MinMaxScaler().fit(X_train_rf)\n",
        "X_train_rf = scaler.transform(X_train_rf)\n",
        "X_test_rf = scaler.transform(X_test_rf)\n",
        "\n",
        "scaler = MinMaxScaler().fit(y_train_rf.values.reshape(-1,1))\n",
        "y_train_rf = scaler.transform(y_train_rf.values.reshape(-1,1))\n",
        "y_test_rf = scaler.transform(y_test_rf.values.reshape(-1,1))"
      ],
      "metadata": {
        "id": "UmS1_sUsXSOO"
      },
      "execution_count": null,
      "outputs": []
    },
    {
      "cell_type": "code",
      "source": [
        "from sklearn.ensemble import RandomForestRegressor\n",
        "# Instantiate model with 1000 decision trees\n",
        "rf = RandomForestRegressor(n_estimators = 1000, random_state = 42)\n",
        "# Train the model on training data\n",
        "rf.fit(X_train_rf, y_train_rf)"
      ],
      "metadata": {
        "id": "A0Rs6lLjdIFk",
        "colab": {
          "base_uri": "https://localhost:8080/"
        },
        "outputId": "3424ac5c-41a7-41a5-a53f-68c2d7a02ef9"
      },
      "execution_count": null,
      "outputs": [
        {
          "output_type": "stream",
          "name": "stderr",
          "text": [
            "/usr/local/lib/python3.7/dist-packages/ipykernel_launcher.py:5: DataConversionWarning: A column-vector y was passed when a 1d array was expected. Please change the shape of y to (n_samples,), for example using ravel().\n",
            "  \"\"\"\n"
          ]
        },
        {
          "output_type": "execute_result",
          "data": {
            "text/plain": [
              "RandomForestRegressor(n_estimators=1000, random_state=42)"
            ]
          },
          "metadata": {},
          "execution_count": 61
        }
      ]
    },
    {
      "cell_type": "code",
      "source": [
        "#predict and evaluate\n",
        "pred_rf = rf.predict(X_test_rf)\n",
        "mse_rf = np.sqrt(np.mean(pred_rf - y_test_rf)**2)\n",
        "mse_rf"
      ],
      "metadata": {
        "id": "QwOLLFbYeHRZ",
        "colab": {
          "base_uri": "https://localhost:8080/"
        },
        "outputId": "fa2e3b42-2636-4f24-8ea5-1655fbfa01d8"
      },
      "execution_count": null,
      "outputs": [
        {
          "output_type": "execute_result",
          "data": {
            "text/plain": [
              "0.0005326838864260761"
            ]
          },
          "metadata": {},
          "execution_count": 62
        }
      ]
    },
    {
      "cell_type": "markdown",
      "source": [
        "# LSTM neural network model"
      ],
      "metadata": {
        "id": "AH9i3NG2U2b2"
      }
    },
    {
      "cell_type": "code",
      "source": [
        "import keras\n",
        "from keras.models import Sequential\n",
        "from keras.layers import Dense, Masking,Dropout\n",
        "from keras.layers import LSTM \n",
        "from keras.layers.embeddings import Embedding\n",
        "from keras.preprocessing import sequence"
      ],
      "metadata": {
        "id": "MnrdPi0ZgfWv"
      },
      "execution_count": null,
      "outputs": []
    },
    {
      "cell_type": "code",
      "source": [
        "from sklearn.model_selection import train_test_split\n",
        "# Split the data into training and testing sets for LSTM model\n",
        "X_train_lstm, X_test_lstm, y_train_lstm, y_test_lstm = train_test_split(crypto_df, Target, test_size = 0.2, random_state = 42)\n",
        "# standardize variables\n",
        "scaler_lstm_X = MinMaxScaler().fit(X_train_lstm)\n",
        "X_train_lstm = scaler_lstm_X.transform(X_train_lstm)\n",
        "X_test_lstm = scaler_lstm_X.transform(X_test_lstm)\n",
        "\n",
        "scaler_lstm_y = MinMaxScaler().fit(y_train_lstm.values.reshape(-1,1))\n",
        "y_train_lstm = scaler_lstm_y.transform(y_train_lstm.values.reshape(-1,1))\n",
        "y_test_lstm = scaler_lstm_y.transform(y_test_lstm.values.reshape(-1,1))"
      ],
      "metadata": {
        "id": "8w2tZQyLQ_r3"
      },
      "execution_count": null,
      "outputs": []
    },
    {
      "cell_type": "code",
      "source": [
        "from keras.models import Sequential\n",
        "from keras.layers import LSTM, Dense, Dropout\n",
        "# Build the LSTM model. \n",
        "# The return sequences need to be set to True if you are adding additional LSTM layers, but \n",
        "# You don't have to do this for the final layer. \n",
        "number_units = 20 \n",
        "drop_out_fraction = 0.2 # 20% of neurons will be randomly droped during each epoch\n",
        "\n",
        "\n",
        "model = Sequential()\n",
        "\n",
        "# add 1st layer\n",
        "model.add(LSTM(units = number_units, \n",
        "               activation='relu',\n",
        "               return_sequences = True,  \n",
        "               input_shape = (X_train_lstm.shape[1],1)\n",
        "          ))\n",
        "model.add(Dropout(drop_out_fraction))\n",
        "# add 2nd layer\n",
        "model.add(LSTM(units = number_units, \n",
        "               activation='relu',\n",
        "               return_sequences=True))\n",
        "model.add(Dropout(drop_out_fraction))\n",
        "# add 3rd layer \n",
        "model.add(LSTM(units = number_units))\n",
        "model.add(Dropout(drop_out_fraction))\n",
        "\n",
        "# add output layer\n",
        "model.add(Dense(units=1))"
      ],
      "metadata": {
        "id": "UT9vF9WF22fY"
      },
      "execution_count": null,
      "outputs": []
    },
    {
      "cell_type": "code",
      "source": [
        "model.compile(loss='mean_squared_error', optimizer = 'adam', metrics=['mse'])"
      ],
      "metadata": {
        "id": "UYS4I-kf37XZ"
      },
      "execution_count": null,
      "outputs": []
    },
    {
      "cell_type": "code",
      "source": [
        "model.summary()"
      ],
      "metadata": {
        "colab": {
          "base_uri": "https://localhost:8080/"
        },
        "id": "ObXHP-7u4AF8",
        "outputId": "38db33f9-304a-42c1-c44a-2ae2caba564c"
      },
      "execution_count": null,
      "outputs": [
        {
          "output_type": "stream",
          "name": "stdout",
          "text": [
            "Model: \"sequential_3\"\n",
            "_________________________________________________________________\n",
            " Layer (type)                Output Shape              Param #   \n",
            "=================================================================\n",
            " lstm_6 (LSTM)               (None, 28, 20)            1760      \n",
            "                                                                 \n",
            " dropout_6 (Dropout)         (None, 28, 20)            0         \n",
            "                                                                 \n",
            " lstm_7 (LSTM)               (None, 28, 20)            3280      \n",
            "                                                                 \n",
            " dropout_7 (Dropout)         (None, 28, 20)            0         \n",
            "                                                                 \n",
            " lstm_8 (LSTM)               (None, 20)                3280      \n",
            "                                                                 \n",
            " dropout_8 (Dropout)         (None, 20)                0         \n",
            "                                                                 \n",
            " dense_2 (Dense)             (None, 1)                 21        \n",
            "                                                                 \n",
            "=================================================================\n",
            "Total params: 8,341\n",
            "Trainable params: 8,341\n",
            "Non-trainable params: 0\n",
            "_________________________________________________________________\n"
          ]
        }
      ]
    },
    {
      "cell_type": "code",
      "source": [
        "model.fit(X_train_lstm,y_train_lstm, epochs =10, batch_size=10, shuffle=False)"
      ],
      "metadata": {
        "id": "qIltrRFB4DxR",
        "colab": {
          "base_uri": "https://localhost:8080/"
        },
        "outputId": "a1536e4b-b503-4aa2-ce0a-e59346932be0"
      },
      "execution_count": null,
      "outputs": [
        {
          "output_type": "stream",
          "name": "stdout",
          "text": [
            "Epoch 1/10\n",
            "3882/3882 [==============================] - 132s 33ms/step - loss: 0.0041 - mse: 0.0041\n",
            "Epoch 2/10\n",
            "3882/3882 [==============================] - 133s 34ms/step - loss: 0.0022 - mse: 0.0022\n",
            "Epoch 3/10\n",
            "3882/3882 [==============================] - 127s 33ms/step - loss: 0.0022 - mse: 0.0022\n",
            "Epoch 4/10\n",
            "3882/3882 [==============================] - 127s 33ms/step - loss: 0.0022 - mse: 0.0022\n",
            "Epoch 5/10\n",
            "3882/3882 [==============================] - 127s 33ms/step - loss: 0.0022 - mse: 0.0022\n",
            "Epoch 6/10\n",
            "3882/3882 [==============================] - 126s 33ms/step - loss: 0.0022 - mse: 0.0022\n",
            "Epoch 7/10\n",
            "3882/3882 [==============================] - 133s 34ms/step - loss: 0.0022 - mse: 0.0022\n",
            "Epoch 8/10\n",
            "3882/3882 [==============================] - 127s 33ms/step - loss: 0.0022 - mse: 0.0022\n",
            "Epoch 9/10\n",
            "3882/3882 [==============================] - 126s 32ms/step - loss: 0.0022 - mse: 0.0022\n",
            "Epoch 10/10\n",
            "3882/3882 [==============================] - 126s 32ms/step - loss: 0.0022 - mse: 0.0022\n"
          ]
        },
        {
          "output_type": "execute_result",
          "data": {
            "text/plain": [
              "<keras.callbacks.History at 0x7f4d20c3b2d0>"
            ]
          },
          "metadata": {},
          "execution_count": 68
        }
      ]
    },
    {
      "cell_type": "code",
      "source": [
        "pred_lstm = model.predict(X_test_lstm).flatten()\n",
        "mse_lstm = np.sqrt(np.mean(pred_lstm - y_test_lstm)**2)\n",
        "mse_lstm"
      ],
      "metadata": {
        "colab": {
          "base_uri": "https://localhost:8080/"
        },
        "id": "7z0mCdly4eQS",
        "outputId": "4a3b3a6e-7928-4da0-8f00-b690a437d6b8"
      },
      "execution_count": null,
      "outputs": [
        {
          "output_type": "execute_result",
          "data": {
            "text/plain": [
              "1.6709741708613678e-05"
            ]
          },
          "metadata": {},
          "execution_count": 69
        }
      ]
    },
    {
      "cell_type": "markdown",
      "source": [
        "# Visualization"
      ],
      "metadata": {
        "id": "wfcPF7EjPiwl"
      }
    },
    {
      "cell_type": "code",
      "source": [
        "import matplotlib.pyplot as plt\n",
        "\n",
        "plt.plot(y_test_lstm)\n",
        "plt.plot(pred_rf)"
      ],
      "metadata": {
        "colab": {
          "base_uri": "https://localhost:8080/",
          "height": 283
        },
        "id": "SQUgOdrePUuI",
        "outputId": "aeccc446-0a22-463f-91f2-6eb1a9d144b1"
      },
      "execution_count": null,
      "outputs": [
        {
          "output_type": "execute_result",
          "data": {
            "text/plain": [
              "[<matplotlib.lines.Line2D at 0x7f4d1d724bd0>]"
            ]
          },
          "metadata": {},
          "execution_count": 86
        },
        {
          "output_type": "display_data",
          "data": {
            "text/plain": [
              "<Figure size 432x288 with 1 Axes>"
            ],
            "image/png": "[encoded data removed]"
          },
          "metadata": {
            "needs_background": "light"
          }
        }
      ]
    },
    {
      "cell_type": "code",
      "source": [
        ""
      ],
      "metadata": {
        "id": "wPP11ay3PlyZ"
      },
      "execution_count": null,
      "outputs": []
    }
  ]
}